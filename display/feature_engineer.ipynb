{
 "cells": [
  {
   "cell_type": "code",
   "execution_count": 1,
   "metadata": {},
   "outputs": [],
   "source": [
    "import sys\n",
    "import os\n",
    "sys.path.append(os.path.abspath(\"..\"))\n",
    "\n",
    "from utils.preprocessing import TextPurifier\n",
    "from dataset import get_sms_dataset"
   ]
  },
  {
   "cell_type": "code",
   "execution_count": 2,
   "metadata": {},
   "outputs": [],
   "source": [
    "data_df = get_sms_dataset(noStopwords=False, overwrite=True)"
   ]
  },
  {
   "cell_type": "markdown",
   "metadata": {},
   "source": [
    "## 词频初步统计"
   ]
  },
  {
   "cell_type": "code",
   "execution_count": 9,
   "metadata": {},
   "outputs": [
    {
     "name": "stdout",
     "output_type": "stream",
     "text": [
      "target-0:  [('i', 2940), ('you', 1943), ('to', 1554), ('the', 1122), ('a', 1056), ('u', 1018), ('$number', 922), ('and', 857), ('in', 818), ('me', 772), ('my', 750), ('is', 732), ('it', 711), ('that', 551), ('of', 525), ('for', 501), ('s', 478), ('have', 440), ('can', 439), ('so', 435), ('but', 434), ('your', 417), ('not', 415), ('are', 414), ('m', 405), ('on', 393), ('do', 384), ('at', 378), ('t', 375), ('if', 354), ('we', 354), ('will', 341), ('be', 335), ('gt', 318), ('lt', 316), ('get', 305), ('how', 304), ('now', 300), ('no', 298), ('just', 293), ('ok', 287), ('when', 287), ('up', 285), ('what', 273), ('with', 272), ('ll', 265), ('this', 252), ('go', 249), ('all', 245), ('ur', 241)]\n",
      "target-1:  [('$number', 1661), ('to', 688), ('$phonenumber', 431), ('a', 377), ('call', 355), ('å', 299), ('you', 297), ('your', 264), ('free', 224), ('the', 206), ('for', 203), ('now', 202), ('or', 188), ('u', 174), ('txt', 163), ('is', 158), ('on', 144), ('ur', 144), ('have', 135), ('from', 131), ('mobile', 127), ('text', 125), ('and', 122), ('stop', 121), ('claim', 113), ('with', 109), ('reply', 104), ('www', 98), ('of', 95), ('prize', 93), ('t', 92), ('s', 90), ('this', 89), ('get', 86), ('our', 85), ('only', 84), ('in', 80), ('are', 80), ('just', 78), ('cash', 76), ('won', 76), ('uk', 74), ('150p', 71), ('send', 70), ('no', 69), ('new', 69), ('nokia', 67), ('win', 64), ('urgent', 63), ('i', 61)]\n"
     ]
    }
   ],
   "source": [
    "from collections import Counter\n",
    "def viewFrequency(df, column, cond):\n",
    "    words = Counter()\n",
    "    _words = df[df.loc[:, column]==cond].message.apply(lambda message: [word for word in message.split()])\n",
    "    for word in _words:\n",
    "        words.update(word)\n",
    "    print(f'{column:s}-{cond}: ', words.most_common(50))\n",
    "\n",
    "\n",
    "viewFrequency(data_df, 'target', 0)\n",
    "viewFrequency(data_df, 'target', 1)"
   ]
  },
  {
   "cell_type": "markdown",
   "metadata": {},
   "source": [
    "如上所呈现的，Ham同Spam的top50词频存在蛮大的重叠，这些重叠很大程度上是由这些'stopword'引起的。\n",
    "\n",
    "\n",
    "TODO: 同图展现词语出现率比对\n",
    "\n",
    "因此选择去掉stopword仍然是有必要的\n",
    "\n",
    "此处选择nltk.corp.stopwords词库来协助，并得到结果如下"
   ]
  },
  {
   "cell_type": "code",
   "execution_count": 10,
   "metadata": {},
   "outputs": [
    {
     "name": "stdout",
     "output_type": "stream",
     "text": [
      "target-0:  [('u', 1018), ('$number', 922), ('gt', 318), ('lt', 316), ('get', 305), ('ok', 287), ('go', 249), ('ur', 241), ('know', 236), ('call', 236), ('good', 233), ('got', 232), ('like', 232), ('come', 227), ('day', 209), ('time', 201), ('love', 199), ('going', 169), ('one', 167), ('home', 165), ('want', 164), ('lor', 162), ('need', 158), ('sorry', 157), ('da', 150), ('still', 150), ('k', 145), ('n', 142), ('today', 139), ('see', 139), ('later', 135), ('dont', 132), ('r', 132), ('back', 130), ('send', 129), ('think', 128), ('take', 125), ('ì', 124), ('pls', 123), ('tell', 122), ('hi', 122), ('much', 115), ('oh', 113), ('well', 113), ('hope', 109), ('night', 109), ('hey', 107), ('wat', 106), ('happy', 106), ('dear', 106)]\n",
      "target-1:  [('$number', 1661), ('$phonenumber', 431), ('call', 355), ('å', 299), ('free', 224), ('u', 174), ('txt', 163), ('ur', 144), ('mobile', 127), ('text', 125), ('stop', 121), ('claim', 113), ('reply', 104), ('www', 98), ('prize', 93), ('get', 86), ('cash', 76), ('uk', 74), ('150p', 71), ('send', 70), ('new', 69), ('nokia', 67), ('win', 64), ('urgent', 63), ('week', 60), ('tone', 60), ('c', 56), ('service', 56), ('contact', 56), ('please', 55), ('co', 54), ('com', 54), ('msg', 54), ('guaranteed', 50), ('customer', 49), ('per', 46), ('phone', 45), ('chat', 44), ('cs', 44), ('min', 43), ('draw', 39), ('awarded', 38), ('latest', 36), ('sms', 36), ('mins', 36), ('camera', 35), ('line', 35), ('message', 34), ('150ppm', 34), ('receive', 33)]\n"
     ]
    }
   ],
   "source": [
    "data_df = get_sms_dataset(noStopwords=True, overwrite=True)\n",
    "viewFrequency(data_df, 'target', 0)\n",
    "viewFrequency(data_df, 'target', 1)"
   ]
  },
  {
   "cell_type": "code",
   "execution_count": 12,
   "metadata": {},
   "outputs": [],
   "source": [
    "X, y = data_df['message'], data_df['target']\n",
    "from sklearn.model_selection import train_test_split\n",
    "X_train,X_test,y_train,y_test=train_test_split(X,y,random_state=0,test_size=0.2)"
   ]
  },
  {
   "cell_type": "code",
   "execution_count": 14,
   "metadata": {},
   "outputs": [],
   "source": [
    "from sklearn.linear_model import LogisticRegression\n",
    "from sklearn.feature_extraction.text import CountVectorizer\n",
    "from sklearn.metrics import accuracy_score\n",
    "cv=CountVectorizer()\n",
    "lr=LogisticRegression(max_iter=10000)\n",
    "X_train=cv.fit_transform(X_train)"
   ]
  },
  {
   "cell_type": "code",
   "execution_count": 17,
   "metadata": {},
   "outputs": [
    {
     "data": {
      "text/plain": [
       "0.9928251121076234"
      ]
     },
     "execution_count": 17,
     "metadata": {},
     "output_type": "execute_result"
    }
   ],
   "source": [
    "from sklearn.naive_bayes import MultinomialNB\n",
    "nb=MultinomialNB()\n",
    "nb.fit(X_train,y_train)\n",
    "pred_2=nb.predict(cv.transform(X_test))\n",
    "score_2=accuracy_score(y_test,pred_2)\n",
    "score_2"
   ]
  },
  {
   "cell_type": "code",
   "execution_count": 23,
   "metadata": {},
   "outputs": [
    {
     "data": {
      "text/plain": [
       "array([[947,   2],\n",
       "       [  6, 160]])"
      ]
     },
     "execution_count": 23,
     "metadata": {},
     "output_type": "execute_result"
    }
   ],
   "source": [
    "from sklearn import metrics\n",
    "metrics.confusion_matrix(y_test, pred_2)"
   ]
  },
  {
   "cell_type": "code",
   "execution_count": 27,
   "metadata": {},
   "outputs": [
    {
     "data": {
      "text/plain": [
       "<1115x6993 sparse matrix of type '<class 'numpy.int64'>'\n",
       "\twith 8616 stored elements in Compressed Sparse Row format>"
      ]
     },
     "execution_count": 27,
     "metadata": {},
     "output_type": "execute_result"
    }
   ],
   "source": [
    "cv.transform(X_test)"
   ]
  },
  {
   "cell_type": "code",
   "execution_count": 53,
   "metadata": {},
   "outputs": [],
   "source": [
    "y_pred_prob = nb.predict_proba(cv.transform(X_test))[:, 1]"
   ]
  },
  {
   "cell_type": "code",
   "execution_count": 54,
   "metadata": {},
   "outputs": [
    {
     "data": {
      "text/plain": [
       "0.993823555549913"
      ]
     },
     "execution_count": 54,
     "metadata": {},
     "output_type": "execute_result"
    }
   ],
   "source": [
    "metrics.roc_auc_score(y_test, y_pred_prob)"
   ]
  },
  {
   "cell_type": "code",
   "execution_count": null,
   "metadata": {},
   "outputs": [],
   "source": []
  }
 ],
 "metadata": {
  "kernelspec": {
   "display_name": "Python 3.7.7 64-bit ('Ptorch': conda)",
   "language": "python",
   "name": "python37764bitptorchconda9559d7826fd6439e8d887d01c59b0923"
  },
  "language_info": {
   "codemirror_mode": {
    "name": "ipython",
    "version": 3
   },
   "file_extension": ".py",
   "mimetype": "text/x-python",
   "name": "python",
   "nbconvert_exporter": "python",
   "pygments_lexer": "ipython3",
   "version": "3.7.7"
  }
 },
 "nbformat": 4,
 "nbformat_minor": 4
}
